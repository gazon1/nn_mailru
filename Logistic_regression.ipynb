{
 "cells": [
  {
   "cell_type": "markdown",
   "metadata": {},
   "source": [
    "# Logistic Regression "
   ]
  },
  {
   "cell_type": "code",
   "execution_count": 1,
   "metadata": {},
   "outputs": [],
   "source": [
    "import numpy as np\n",
    "import pickle\n",
    "import matplotlib.pylab as plt\n",
    "%matplotlib inline"
   ]
  },
  {
   "cell_type": "code",
   "execution_count": 2,
   "metadata": {},
   "outputs": [],
   "source": [
    "def get_train_test_inds(y,train_proportion=0.7):\n",
    "    '''Generates indices, making random stratified split into training set and testing sets\n",
    "    with proportions train_proportion and (1-train_proportion) of initial sample.\n",
    "    y is any iterable indicating classes of each observation in the sample.\n",
    "    Initial proportions of classes inside training and \n",
    "    testing sets are preserved (stratified sampling).\n",
    "    '''\n",
    "\n",
    "    y=np.array(y)\n",
    "    train_inds = np.zeros(len(y),dtype=bool)\n",
    "    test_inds = np.zeros(len(y),dtype=bool)\n",
    "    values = np.unique(y)\n",
    "    for value in values:\n",
    "        value_inds = np.nonzero(y==value)[0]\n",
    "        np.random.shuffle(value_inds)\n",
    "        n = int(train_proportion*len(value_inds))\n",
    "\n",
    "        train_inds[value_inds[:n]]=True\n",
    "        test_inds[value_inds[n:]]=True\n",
    "\n",
    "    return train_inds,test_inds"
   ]
  },
  {
   "cell_type": "markdown",
   "metadata": {},
   "source": [
    "# Подготовка датасета"
   ]
  },
  {
   "cell_type": "code",
   "execution_count": 234,
   "metadata": {},
   "outputs": [],
   "source": [
    "with open('./hw_1_train.pickle', 'rb') as f:\n",
    "    train = pickle.load(f)\n",
    "\n",
    "with open('./hw_1_test_no_lables.pickle', 'rb') as f:\n",
    "    test_no_lables = pickle.load(f)\n",
    "    \n",
    "train_ind, test_ind = get_train_test_inds(train['labels'])\n",
    "train_x, test_x, train_y, test_y = train['data'][train_ind], train['data'][test_ind], train['labels'][train_ind], \\\n",
    "train['labels'][test_ind]\n",
    "\n",
    "train_x = train_x.T\n",
    "test_x = test_x.T\n",
    "\n",
    "train_y[np.where(train_y == 5)[0]] = 0\n",
    "train_y[np.where(train_y == 6)[0]] = 1\n",
    "\n",
    "train_y = train_y.reshape((1, -1))\n",
    "\n",
    "test_y[np.where(test_y == 5)[0]] = 0\n",
    "test_y[np.where(test_y == 6)[0]] = 1\n",
    "\n",
    "test_y = test_y.reshape((1,-1))"
   ]
  },
  {
   "cell_type": "code",
   "execution_count": 235,
   "metadata": {},
   "outputs": [
    {
     "name": "stdout",
     "output_type": "stream",
     "text": [
      "(784, 6999)\n",
      "(1, 6999)\n",
      "(784, 3001)\n",
      "(1, 3001)\n"
     ]
    }
   ],
   "source": [
    "print(train_x.shape)\n",
    "print(train_y.shape)\n",
    "print(test_x.shape)\n",
    "print(test_y.shape)"
   ]
  },
  {
   "cell_type": "code",
   "execution_count": 236,
   "metadata": {},
   "outputs": [
    {
     "data": {
      "text/plain": [
       "<matplotlib.image.AxesImage at 0x7f3d59eed518>"
      ]
     },
     "execution_count": 236,
     "metadata": {},
     "output_type": "execute_result"
    },
    {
     "data": {
      "image/png": "[encoded data removed]",
      "text/plain": [
       "<Figure size 432x288 with 1 Axes>"
      ]
     },
     "metadata": {},
     "output_type": "display_data"
    }
   ],
   "source": [
    "plt.imshow(train['data'][0].reshape(28,28))"
   ]
  },
  {
   "cell_type": "markdown",
   "metadata": {},
   "source": [
    "## 3 - General Architecture of the learning algorithm ##\n",
    "\n",
    "**Mathematical expression of the algorithm**:\n",
    "\n",
    "For one example $x^{(i)}$:\n",
    "$$z^{(i)} = w^T x^{(i)} + b \\tag{1}$$\n",
    "$$\\hat{y}^{(i)} = a^{(i)} = sigmoid(z^{(i)})\\tag{2}$$ \n",
    "$$ \\mathcal{L}(a^{(i)}, y^{(i)}) =  - y^{(i)}  \\log(a^{(i)}) - (1-y^{(i)} )  \\log(1-a^{(i)})\\tag{3}$$\n",
    "\n",
    "The cost is then computed by summing over all training examples:\n",
    "$$ J = \\frac{1}{m} \\sum_{i=1}^m \\mathcal{L}(a^{(i)}, y^{(i)})\\tag{6}$$"
   ]
  },
  {
   "cell_type": "markdown",
   "metadata": {},
   "source": [
    "## 4 - Building the parts of our algorithm ## \n",
    "\n",
    "The main steps for building a Neural Network are:\n",
    "1. Define the model structure (such as number of input features) \n",
    "2. Initialize the model's parameters\n",
    "3. Loop:\n",
    "    - Calculate current loss (forward propagation)\n",
    "    - Calculate current gradient (backward propagation)\n",
    "    - Update parameters (gradient descent)\n",
    "\n",
    "You often build 1-3 separately and integrate them into one function we call `model()`.\n",
    "\n",
    "### 4.1 - Helper functions"
   ]
  },
  {
   "cell_type": "code",
   "execution_count": 237,
   "metadata": {},
   "outputs": [],
   "source": [
    "def compute_acc(y_true, y_pred):\n",
    "    \n",
    "    assert(y_true.shape[0] == 1 and y_pred.shape[0] == 1 and y_true.shape[1] == y_pred.shape[1] and\n",
    "          len(y_true.shape) == 2 and len(y_pred.shape) == 2)\n",
    "    \n",
    "    acc = 0.0\n",
    "    y_pred = np.array([1 if i > 0.5 else 0 for i in y_pred.reshape(-1)]).reshape((1, -1))\n",
    "    for y_t, y_p in zip(y_true.reshape(-1), y_pred.reshape(-1)):\n",
    "        if(y_t == y_p):\n",
    "            acc += 1.0\n",
    "    return acc / y_true.shape[1]"
   ]
  },
  {
   "cell_type": "code",
   "execution_count": 238,
   "metadata": {},
   "outputs": [],
   "source": [
    "def sigmoid(z):\n",
    "    \"\"\"\n",
    "    Compute the sigmoid of z\n",
    "\n",
    "    Arguments:\n",
    "    x -- A scalar or numpy array of any size.\n",
    "\n",
    "    Return:\n",
    "    s -- sigmoid(z)\n",
    "    \"\"\"\n",
    "    s = 1. / (1. + np.exp(-z))\n",
    "    \n",
    "    return s"
   ]
  },
  {
   "cell_type": "markdown",
   "metadata": {},
   "source": [
    "### 4.2 - Initializing parameters"
   ]
  },
  {
   "cell_type": "code",
   "execution_count": 239,
   "metadata": {},
   "outputs": [],
   "source": [
    "def initialize_with_zeros(dim):\n",
    "    \"\"\"\n",
    "    This function creates a vector of zeros of shape (dim, 1) for w and initializes b to 0.\n",
    "    \n",
    "    Argument:\n",
    "    dim -- size of the w vector we want (or number of parameters in this case)\n",
    "    \n",
    "    Returns:\n",
    "    w -- initialized vector of shape (dim, 1)\n",
    "    b -- initialized scalar (corresponds to the bias)\n",
    "    \"\"\"\n",
    "    \n",
    "    return np.zeros(shape=(dim, 1)), 0"
   ]
  },
  {
   "cell_type": "code",
   "execution_count": 240,
   "metadata": {},
   "outputs": [],
   "source": [
    "def compute_cost(AL, Y, eps=1e-15, indexes=None, w=None, lamda=0):\n",
    "    \"\"\"\n",
    "    Implement logloss\n",
    "\n",
    "    Arguments:\n",
    "    AL -- probability vector corresponding to your label predictions, shape (1, number of examples)\n",
    "    Y -- true \"label\" vector, shape (1, number of examples)\n",
    "\n",
    "    Returns:\n",
    "    cost -- cross-entropy cost\n",
    "    \"\"\"\n",
    "    if w is None:\n",
    "        w = 0\n",
    "        \n",
    "    if not indexes:\n",
    "        m = Y.shape[1]\n",
    "        \n",
    "        # Compute loss from aL and y.\n",
    "        cost = (1./m) * (-np.dot(Y,np.log(AL + eps).T) - np.dot(1-Y, np.log(1-AL + eps).T)) + lamda * np.dot(w.T, w)\n",
    "\n",
    "    else:\n",
    "        m = len(indexes)\n",
    "        \n",
    "        cost = (1./m) * (-np.dot(Y[:, indexes],np.log(AL[:, indexes] + eps).T) - \\\n",
    "                         np.dot(1-Y[:, indexes], np.log(1-AL[:, indexes] + eps).T)) + lamda * np.dot(w.T, w)\n",
    "        \n",
    "    cost = np.squeeze(cost)      # To make sure your cost's shape is what we expect (e.g. this turns [[17]] into 17).\n",
    "    assert(cost.shape == ())\n",
    "\n",
    "    return cost"
   ]
  },
  {
   "cell_type": "markdown",
   "metadata": {},
   "source": [
    "### 4.3 - Forward and Backward propagation\n",
    "\n",
    "\n",
    "Forward Propagation:\n",
    "- You get X\n",
    "- You compute $A = \\sigma(w^T X + b) = (a^{(0)}, a^{(1)}, ..., a^{(m-1)}, a^{(m)})$\n",
    "- You calculate the cost function: $J = -\\frac{1}{m}\\sum_{i=1}^{m}y^{(i)}\\log(a^{(i)})+(1-y^{(i)})\\log(1-a^{(i)})$\n",
    "\n",
    "Here are the two formulas you will be using: \n",
    "\n",
    "$$ \\frac{\\partial J}{\\partial w} = \\frac{1}{m}X(A-Y)^T\\tag{7}$$\n",
    "$$ \\frac{\\partial J}{\\partial b} = \\frac{1}{m} \\sum_{i=1}^m (a^{(i)}-y^{(i)})\\tag{8}$$"
   ]
  },
  {
   "cell_type": "code",
   "execution_count": 247,
   "metadata": {},
   "outputs": [],
   "source": [
    "def propagate(w, b, X, Y, mini_batch_size, lamda):\n",
    "    \"\"\"\n",
    "    Implement the cost function and its gradient for the propagation explained above\n",
    "\n",
    "    Arguments:\n",
    "    w -- weights, a numpy array of size (..., 1)\n",
    "    b -- bias, a scalar\n",
    "    X -- data of size (..., number of examples)\n",
    "    Y -- true \"label\" vector containing 0 or 1 of size (1, number of examples)\n",
    "    mini_batch_size -- procent(float number from 0 to 1) of data to use in gradient descent\n",
    "\n",
    "    Return:\n",
    "    cost -- negative log-likelihood cost for logistic regression\n",
    "    dw -- gradient of the loss with respect to w, thus same shape as w\n",
    "    db -- gradient of the loss with respect to b, thus same shape as b\n",
    "    \"\"\"\n",
    "    m = X.shape[1] #number of examples\n",
    "    assert(w.shape == (X.shape[0], 1))\n",
    "    \n",
    "    #forward step\n",
    "    A = sigmoid(np.dot(w.T, X) + b)\n",
    "    cost = compute_cost(A, Y, w=w, lamda=lamda)\n",
    "    preds = predict(w, b, X, False)\n",
    "    acc = compute_acc(Y, preds)\n",
    "    \n",
    "    A_test = sigmoid(np.dot(w.T, test_x) + b)\n",
    "    cost_test = compute_cost(A_test, test_y, w=w, lamda=lamda)\n",
    "    preds_test = predict(w, b, test_x, False)\n",
    "    acc_test = compute_acc(test_y, preds_test)\n",
    "   \n",
    "    #backward step\n",
    "    #choose indexes to implement SGD\n",
    "    m_minibatch = int(mini_batch_size * m)\n",
    "    indexes = np.random.randint(0, m, m_minibatch)   \n",
    "    \n",
    "    dz = A[:, indexes] - Y[:, indexes]\n",
    "    db = 1./m_minibatch * np.sum(dz)\n",
    "    dw = 1./m_minibatch * np.dot(X[:, indexes], dz.T) + lamda * w\n",
    "\n",
    "\n",
    "    grads = {\"dw\": dw,\n",
    "             \"db\": db}\n",
    "\n",
    "    return grads, cost, cost_test,acc, acc_test"
   ]
  },
  {
   "cell_type": "code",
   "execution_count": 242,
   "metadata": {},
   "outputs": [
    {
     "data": {
      "text/plain": [
       "dict_keys(['costs', 'costs_test', 'acc', 'acc_test', 'Y_prediction_test', 'Y_prediction_train', 'w', 'b', 'learning_rate', 'num_iterations'])"
      ]
     },
     "execution_count": 242,
     "metadata": {},
     "output_type": "execute_result"
    }
   ],
   "source": [
    "d.keys()"
   ]
  },
  {
   "cell_type": "markdown",
   "metadata": {},
   "source": [
    "### Optimization"
   ]
  },
  {
   "cell_type": "code",
   "execution_count": 243,
   "metadata": {},
   "outputs": [],
   "source": [
    "def optimize(w, b, X, Y, num_iterations, learning_rate, mini_batch_size, lamda, print_cost = False):\n",
    "    \"\"\"\n",
    "    This function optimizes w and b by running a gradient descent algorithm\n",
    "    \n",
    "    Arguments:\n",
    "    w -- weights, a numpy array of size (..., 1)\n",
    "    b -- bias, a scalar\n",
    "    X -- data of shape (num_px * num_px * 3, number of examples)\n",
    "    Y -- true \"label\" vector containing 0 or 1 of shape (1, number of examples)\n",
    "    num_iterations -- number of iterations of the optimization loop\n",
    "    learning_rate -- learning rate of the gradient descent update rule\n",
    "    print_cost -- True to print the loss every 100 steps\n",
    "    \n",
    "    Returns:\n",
    "    params -- dictionary containing the weights w and bias b\n",
    "    grads -- dictionary containing the gradients of the weights and bias with respect to the cost function\n",
    "    costs -- list of all the costs computed during the optimization, this will be used to plot the learning curve.\n",
    "    \"\"\"\n",
    "    \n",
    "    costs = []\n",
    "    costs_test = []\n",
    "    acc_list = []\n",
    "    acc_test_list = []\n",
    "    for iter_num in range(1, num_iterations + 1):\n",
    "        grads, cost, cost_test, acc, acc_test = propagate(w, b, X, Y, mini_batch_size, lamda)\n",
    "        dw = grads['dw']\n",
    "        db = grads['db']\n",
    "        \n",
    "        _learning_rate = learning_rate / iter_num\n",
    "        w = w - _learning_rate * dw\n",
    "        b = b - _learning_rate * db\n",
    "    \n",
    "        costs.append(cost)\n",
    "        costs_test.append(cost_test)\n",
    "        acc_list.append(acc)\n",
    "        acc_test_list.append(acc_test)\n",
    "        \n",
    "        if print_cost and iter_num % 100 == 0:\n",
    "            print (\"Cost after iteration %i: %f\" % (iter_num, cost))\n",
    "    \n",
    "    params = {\"w\": w,\n",
    "              \"b\": b}\n",
    "    \n",
    "    grads = {\"dw\": dw,\n",
    "             \"db\": db}\n",
    "    \n",
    "    return params, grads, costs, costs_test, acc_list, acc_test_list"
   ]
  },
  {
   "cell_type": "code",
   "execution_count": 244,
   "metadata": {},
   "outputs": [],
   "source": [
    "def predict(w, b, X, prob=True):\n",
    "    '''\n",
    "    Predict whether the label is 0 or 1 using learned logistic regression parameters (w, b)\n",
    "    \n",
    "    Arguments:\n",
    "    w -- weights, a numpy array of size (..., 1)\n",
    "    b -- bias, a scalar\n",
    "    X -- data of size (..., number of examples)\n",
    "    \n",
    "    Returns:\n",
    "    Y_prediction -- a numpy array (vector) containing all predictions (0/1) for the examples in X\n",
    "    '''\n",
    "    \n",
    "    A = sigmoid(np.dot(w.T, X) + b)\n",
    "    if prob:\n",
    "        return A\n",
    "    else:\n",
    "        Y_prediction = np.zeros((1, X.shape[1]))\n",
    "        for i in range(A.shape[1]):\n",
    "            Y_prediction[0, i] = 1 if A[0, i] > 0.5 else 0\n",
    "        \n",
    "        return Y_prediction"
   ]
  },
  {
   "cell_type": "markdown",
   "metadata": {},
   "source": [
    "## 5 - Model ##"
   ]
  },
  {
   "cell_type": "code",
   "execution_count": 245,
   "metadata": {},
   "outputs": [],
   "source": [
    "def model(X_train, Y_train, X_test, Y_test, num_iterations=2000, learning_rate=0.5, lamda=0.1, \n",
    "          mini_batch_size=0.1, print_cost=False):\n",
    "    \"\"\"\n",
    "    Builds the logistic regression model by calling the function you've implemented previously\n",
    "    \n",
    "    Arguments:\n",
    "    X_train -- training set represented by a numpy array of shape (num_px * num_px * 3, m_train)\n",
    "    Y_train -- training labels represented by a numpy array (vector) of shape (1, m_train)\n",
    "    X_test -- test set represented by a numpy array of shape (num_px * num_px * 3, m_test)\n",
    "    Y_test -- test labels represented by a numpy array (vector) of shape (1, m_test)\n",
    "    num_iterations -- hyperparameter representing the number of iterations to optimize the parameters\n",
    "    learning_rate -- hyperparameter representing the learning rate used in the update rule of optimize()\n",
    "    print_cost -- Set to true to print the cost every 100 iterations\n",
    "    \n",
    "    Returns:\n",
    "    d -- dictionary containing information about the model.\n",
    "    \"\"\"\n",
    "    w, b = initialize_with_zeros(X_train.shape[0])\n",
    "    parameters, grads, costs, costs_test, acc, acc_test = optimize(w, b, X_train, Y_train, num_iterations, learning_rate, \n",
    "                                                                   mini_batch_size, lamda, print_cost)\n",
    "    \n",
    "    w = parameters[\"w\"]\n",
    "    b = parameters[\"b\"]\n",
    "    \n",
    "    Y_prediction_test = predict(w, b, X_test)\n",
    "    Y_prediction_train = predict(w, b, X_train)\n",
    "\n",
    "    print(\"train accuracy: {} %\".format(100 - np.mean(np.abs(Y_prediction_train - Y_train)) * 100))\n",
    "    print(\"test accuracy: {} %\".format(100 - np.mean(np.abs(Y_prediction_test - Y_test)) * 100))\n",
    "\n",
    "    \n",
    "    d = {\"costs\": costs,\n",
    "         \"costs_test\": costs_test,\n",
    "         \"acc\": acc,\n",
    "         \"acc_test\": acc_test,\n",
    "         \"Y_prediction_test\": Y_prediction_test, \n",
    "         \"Y_prediction_train\" : Y_prediction_train, \n",
    "         \"w\" : w, \n",
    "         \"b\" : b,\n",
    "         \"learning_rate\" : learning_rate,\n",
    "         \"num_iterations\": num_iterations}\n",
    "    \n",
    "    return d"
   ]
  },
  {
   "cell_type": "code",
   "execution_count": 248,
   "metadata": {},
   "outputs": [
    {
     "name": "stdout",
     "output_type": "stream",
     "text": [
      "Cost after iteration 100: 0.558350\n",
      "Cost after iteration 200: 0.527272\n",
      "Cost after iteration 300: 0.511300\n",
      "Cost after iteration 400: 0.500540\n",
      "Cost after iteration 500: 0.492407\n",
      "Cost after iteration 600: 0.486146\n",
      "Cost after iteration 700: 0.481135\n",
      "Cost after iteration 800: 0.476728\n",
      "Cost after iteration 900: 0.472820\n",
      "Cost after iteration 1000: 0.469460\n",
      "Cost after iteration 1100: 0.466476\n",
      "Cost after iteration 1200: 0.463733\n",
      "Cost after iteration 1300: 0.461280\n",
      "Cost after iteration 1400: 0.459049\n",
      "Cost after iteration 1500: 0.457025\n",
      "Cost after iteration 1600: 0.455058\n",
      "Cost after iteration 1700: 0.453277\n",
      "Cost after iteration 1800: 0.451587\n",
      "Cost after iteration 1900: 0.450008\n",
      "Cost after iteration 2000: 0.448523\n",
      "train accuracy: 96.80461960675942 %\n",
      "test accuracy: 96.91106992958593 %\n"
     ]
    }
   ],
   "source": [
    "d = model(train_x, train_y, test_x, test_y, num_iterations = 2000, learning_rate = 0.0005, lamda=0.2, mini_batch_size=0.5, print_cost = True)"
   ]
  },
  {
   "cell_type": "code",
   "execution_count": 201,
   "metadata": {},
   "outputs": [
    {
     "data": {
      "text/plain": [
       "<matplotlib.legend.Legend at 0x7f3d5647a518>"
      ]
     },
     "execution_count": 201,
     "metadata": {},
     "output_type": "execute_result"
    },
    {
     "data": {
      "image/png": "[encoded data removed]",
      "text/plain": [
       "<Figure size 432x288 with 1 Axes>"
      ]
     },
     "metadata": {},
     "output_type": "display_data"
    }
   ],
   "source": [
    "plt.title('Acc')\n",
    "plt.plot([e for e in d['acc'][100:]], label='train')\n",
    "plt.plot([e for e in d['acc_test'][100:]], label='test')\n",
    "plt.legend()"
   ]
  },
  {
   "cell_type": "code",
   "execution_count": 202,
   "metadata": {},
   "outputs": [
    {
     "data": {
      "text/plain": [
       "<matplotlib.legend.Legend at 0x7f3d563e6c18>"
      ]
     },
     "execution_count": 202,
     "metadata": {},
     "output_type": "execute_result"
    },
    {
     "data": {
      "image/png": "[encoded data removed]",
      "text/plain": [
       "<Figure size 432x288 with 1 Axes>"
      ]
     },
     "metadata": {},
     "output_type": "display_data"
    }
   ],
   "source": [
    "plt.title('Loss')\n",
    "plt.plot([e for e in d['costs'][100:]], label='train')\n",
    "plt.plot([e for e in d['costs_test'][100:]], label='test')\n",
    "plt.legend()"
   ]
  },
  {
   "cell_type": "code",
   "execution_count": 204,
   "metadata": {},
   "outputs": [],
   "source": [
    "answers = predict(d[\"w\"], d[\"b\"], test_no_lables[\"data\"].T).reshape(-1)\n",
    "with open('solution.csv', 'w') as fout:\n",
    "    print(\"Id,Prediction\", file=fout)\n",
    "    for i in range(test_no_lables[\"data\"].shape[0]):\n",
    "        print(i, answers[i], sep=',', file=fout)"
   ]
  }
 ],
 "metadata": {
  "coursera": {
   "course_slug": "neural-networks-deep-learning",
   "graded_item_id": "XaIWT",
   "launcher_item_id": "zAgPl"
  },
  "kernelspec": {
   "display_name": "Python 3",
   "language": "python",
   "name": "python3"
  },
  "language_info": {
   "codemirror_mode": {
    "name": "ipython",
    "version": 3
   },
   "file_extension": ".py",
   "mimetype": "text/x-python",
   "name": "python",
   "nbconvert_exporter": "python",
   "pygments_lexer": "ipython3",
   "version": "3.6.7"
  }
 },
 "nbformat": 4,
 "nbformat_minor": 2
}
